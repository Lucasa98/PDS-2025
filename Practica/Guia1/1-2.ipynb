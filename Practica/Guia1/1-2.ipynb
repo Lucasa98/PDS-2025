{
 "cells": [
  {
   "cell_type": "markdown",
   "metadata": {},
   "source": [
    "# Codigo Auxiliar"
   ]
  },
  {
   "cell_type": "code",
   "execution_count": 49,
   "metadata": {},
   "outputs": [],
   "source": [
    "import numpy as np\n",
    "\n",
    "''' Ejercicio 1.1\n",
    "tini: t inicial\n",
    "tfin: t final\n",
    "fm: frecuencia muestral\n",
    "fs: frecuencia de la senial\n",
    "fase: fase\n",
    "'''\n",
    "def senoidal(tini, tfin, fm, fs, fase):\n",
    "    # periodo\n",
    "    T = 1.0/fm\n",
    "    # muestras\n",
    "    t = np.arange(tini,tfin,T)\n",
    "    # valores\n",
    "    return [t, np.sin(2*np.pi*fs*t+fase)]\n",
    "\n",
    "''' Ejercicio 1.2\n",
    "tini: t inicial\n",
    "tfin: t final\n",
    "fm: frecuencia muestral\n",
    "fs: frecuencia de la senial\n",
    "fase: fase\n",
    "'''\n",
    "def sinc(tini, tfin, fm, fs, fase):\n",
    "    T = 1.0/fm\n",
    "    t = np.arange(tini,tfin,T)\n",
    "    s = [0]*len(t)\n",
    "    aux = 2*np.pi*fs\n",
    "    for i in range(len(t)):\n",
    "        s[i] = 1 if t[i]+fase == 0 else np.sin(aux*t[i]+fase)/(aux*t[i]+fase)\n",
    "    return [t,s]\n",
    "\n",
    "''' Ejercicio 1.3\n",
    "tini: t inicial\n",
    "tfin: t final\n",
    "fm: frecuencia muestral\n",
    "fs: frecuencia de la senial\n",
    "fase: fase\n",
    "'''\n",
    "def cuadrada(tini, tfin, fm, fs, fase):\n",
    "    T = 1.0/fm\n",
    "    t = np.arange(tini, tfin, T)\n",
    "    s = [0]*len(t)\n",
    "    dospi = 2*np.pi\n",
    "    aux = dospi*fs\n",
    "    for i in range(len(t)):\n",
    "        s[i] = -1 if np.mod(aux*t[i]+fase, dospi) >= np.pi else 1\n",
    "    return [t,s]"
   ]
  },
  {
   "cell_type": "markdown",
   "metadata": {},
   "source": [
    "# Guia 1\n",
    "## Ejercicio 2\n",
    "Realice las siguientes operaciones basicas sobre una señal senoidal:\n",
    "1. inversion\n",
    "2. rectificacion\n",
    "3. cuatizacion en 8 niveles\n",
    "Para la cuantización, tenga en cuenta la ecuación de cuatizador que aparece en el libro:\n",
    "$$\n",
    "\\rho (t) =\n",
    "\\begin{cases}\n",
    "    0           &\\quad \\text{si } x < 0,    \\\\\n",
    "    Hint(x/H)   &\\quad \\text{si } 0 \\leq x < (N-1)H, \\\\\n",
    "    (N-1)H      &\\quad \\text{si } x \\geq (N-1)H\n",
    "\\end{cases}\n",
    "$$\n",
    "donde $N$ es el número de niveles de la cuantización, y $H$ es la magnitud del cuanto o paso. La ecuación está diseñada para funcionar sólo sobre señales positivas, ya que elimina la parte negativa. Esto quiere decir que para la señal senoidal, que tiene parte negativa, el método debe adaptarse. Una forma sencilla de realiza ésto es hacer la señal toda positiva (restando el minimo), aplicar la formula anterior, y luego sumar el mínimo para volver a dejar la señal en el rango de valores original."
   ]
  },
  {
   "cell_type": "code",
   "execution_count": 47,
   "metadata": {},
   "outputs": [],
   "source": [
    "import numpy as np\n",
    "\n",
    "''' Ejercicio 2.1\n",
    "s: senial a invertir\n",
    "'''\n",
    "def invertir(s):\n",
    "    return s[::-1]\n",
    "\n",
    "''' Ejercicio 2.2\n",
    "s: senial a rectificar\n",
    "'''\n",
    "def rectificar(s):\n",
    "    srec = [0]*len(s)\n",
    "    for i in range(len(s)):\n",
    "        srec[i] = abs(s[i])\n",
    "    return srec\n",
    "\n",
    "''' Ejercio 2.3\n",
    "s: senial a cuantizar\n",
    "'''\n",
    "def cuantizar(s,N):\n",
    "    smin = min(s)\n",
    "    smax = max(s) - smin\n",
    "    H = smax/N\n",
    "\n",
    "    if(H == 0):\n",
    "        raise Exception(f\"smin: {smin}, smax: {smax}\")\n",
    "\n",
    "    scuan = [0]*len(s)\n",
    "    for i in range(len(s)):\n",
    "        scuan[i] = H*int((s[i]-smin)/H) + smin\n",
    "    return scuan"
   ]
  },
  {
   "cell_type": "markdown",
   "metadata": {},
   "source": [
    "### Test"
   ]
  },
  {
   "cell_type": "code",
   "execution_count": null,
   "metadata": {},
   "outputs": [],
   "source": [
    "import matplotlib.pyplot as plt\n",
    "\n",
    "s = [[0 for _ in range(3)] for _ in range(4)]\n",
    "[t,s[0][0]] = senoidal(-1,1,100,0.5,0)\n",
    "[t,s[0][1]] = senoidal(-1,1,100,1,0)\n",
    "[t,s[0][2]] = senoidal(-1,1,100,2,0)\n",
    "\n",
    "for i in range(3):\n",
    "    s[1][i] = invertir(s[0][i])\n",
    "    s[2][i] = rectificar(s[0][i])\n",
    "    s[3][i] = cuantizar(s[0][i],5)\n",
    "\n",
    "fig,ax = plt.subplots(4,3,sharex=True,sharey=True)\n",
    "\n",
    "for i in range(4):\n",
    "    for j in range(3):\n",
    "        ax[i,j].grid()\n",
    "        ax[i,j].plot(t,s[i][j])\n",
    "\n",
    "plt.show()"
   ]
  }
 ],
 "metadata": {
  "kernelspec": {
   "display_name": "usr",
   "language": "python",
   "name": "python3"
  },
  "language_info": {
   "codemirror_mode": {
    "name": "ipython",
    "version": 3
   },
   "file_extension": ".py",
   "mimetype": "text/x-python",
   "name": "python",
   "nbconvert_exporter": "python",
   "pygments_lexer": "ipython3",
   "version": "3.13.1"
  }
 },
 "nbformat": 4,
 "nbformat_minor": 2
}
