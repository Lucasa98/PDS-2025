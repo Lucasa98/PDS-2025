import numpy as np
import matplotlib.pyplot as plt

def aleatoria(tini,tfin,fm):
    t = np.linspace(tini,tfin,fm*(tfin-tini))
    return t, np.random.normal(0,1,len(t))

def media(s):
    return np.sum(s)/len(s)

def varianza(s):
    m = media(s)
    v = 0
    for si in s:
        v = v + np.pow((si-m),2)
    return v

tini = 0
tfin = 2
fm = 40
realizaciones = 5
t = [[[0] * (fm*(tini-tfin))] for _ in range(realizaciones)]
s = [[[0] * (fm*(tini-tfin))] for _ in range(realizaciones)]

for i in range(realizaciones):
    t[i], s[i] = aleatoria(tini,tfin,fm)

fig,ax = plt.subplots(realizaciones,sharex=True,sharey=True)
fig.set_figwidth(20)
fig.set_figheight(10)

for i in range(realizaciones):
    ax[i].grid()
    ax[i].plot(t[i],s[i])
    ax[i].set_ylabel(f"E={round(media(s[i]),2)}, Var={round(np.var(s[i]),2)}", rotation='horizontal')

plt.show()
