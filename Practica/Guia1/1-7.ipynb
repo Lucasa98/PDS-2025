{
 "cells": [
  {
   "cell_type": "markdown",
   "metadata": {},
   "source": [
    "# Guia 1\n",
    "## Ejercicio 7\n",
    "Genere distintas realizaciones de una señal aleatoria con distribución gaussiana (distribución nomrmal, equivalente) con media cero y varianza unitaria, y luego utilice dichas realizaciones para verificar la estacionariedad y ergodicidad. Para esto tenga en cuenta que los estimadores estadísticos (media y varianza, en este caso) requiere infinitas meustras y realizaciones para obtener el valor exacto, por lo que deberá observarse si los estimadores _tienden_ al mismo valor a medidad que se incrementan la cantidad de meustras y realizaciones."
   ]
  }
 ],
 "metadata": {
  "language_info": {
   "name": "python"
  }
 },
 "nbformat": 4,
 "nbformat_minor": 2
}
