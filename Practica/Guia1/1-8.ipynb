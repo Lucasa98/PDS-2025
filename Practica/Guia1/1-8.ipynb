{
 "cells": [
  {
   "cell_type": "markdown",
   "metadata": {},
   "source": [
    "# Guia 1\n",
    "## Ejercicio 8\n",
    "Genere una señal de ruido aleatorio, súmelo a una señal conocida y grafique el resultado. Calcule la potencia de la señal original, la potencia del ruido generado, y calcule la relación señal-ruido (SNR, del inglés signal-to-noise-ratio). Luego multiplique la señal de ruido por una constante y vuelva a calcular la SNR. Por último, a partir de las definiciones de potencia y SNR despeje y calcule el valor para dicha constante de manera que la SNR resultante sea de 0 dB."
   ]
  },
  {
   "cell_type": "markdown",
   "metadata": {},
   "source": [
    "### Caso 1"
   ]
  },
  {
   "cell_type": "code",
   "execution_count": null,
   "metadata": {},
   "outputs": [],
   "source": [
    "import numpy as np\n",
    "import matplotlib.pyplot as plt\n",
    "\n",
    "'''\n",
    "Generador de una senial senoidal\n",
    "'''\n",
    "def senoidal(tini,tfin,fm):\n",
    "    t = np.linspace(tini,tfin,int(fm*(tfin - tini)), endpoint=False)\n",
    "    return t, np.sin(2*np.pi*t)\n",
    "\n",
    "'''\n",
    "Generador de una senial aleatoria\n",
    "'''\n",
    "def aleatoria(tini,tfin,fm,scale):\n",
    "    t = np.linspace(tini,tfin,int(fm*(tfin-tini)), endpoint=False)\n",
    "    return t, np.random.normal(0,scale,len(t))\n",
    "\n",
    "'''\n",
    "Calcula la potencia de la senial\n",
    "'''\n",
    "def potencia(s):\n",
    "    return np.sum(np.pow(s,[2]*len(s)))/len(s)\n",
    "\n",
    "tini = 0\n",
    "tfin = 2\n",
    "fm = 100\n",
    "alpha = 1\n",
    "\n",
    "# senial\n",
    "t,s = senoidal(tini,tfin,fm)\n",
    "# ruido\n",
    "t,r = np.multiply([alpha]*(fm*(tfin-tini)), aleatoria(tini,tfin,fm, 0.2))\n",
    "\n",
    "fig,ax = plt.subplots(3,sharex=True)\n",
    "fig.set_figwidth(20)\n",
    "fig.set_figheight(10)\n",
    "\n",
    "ax[0].grid()\n",
    "ax[1].grid()\n",
    "ax[2].grid()\n",
    "\n",
    "ax[0].plot(t,s)\n",
    "ax[0].set_title(f\"$P_s = {potencia(s)}$\")\n",
    "\n",
    "ax[1].plot(t,r)\n",
    "ax[1].set_title(f\"$P_r = {potencia(r)}$\")\n",
    "\n",
    "ax[2].plot(t,s+r)\n",
    "ax[2].set_title(f\"$SNR = {potencia(s)/potencia(r)}$\")\n",
    "\n",
    "plt.show()"
   ]
  },
  {
   "cell_type": "markdown",
   "metadata": {},
   "source": [
    "### Caso 2\n",
    "\n",
    "Señal de ruido multiplicada por 2"
   ]
  },
  {
   "cell_type": "code",
   "execution_count": null,
   "metadata": {},
   "outputs": [],
   "source": [
    "tini = 0\n",
    "tfin = 2\n",
    "fm = 100\n",
    "alpha = 2\n",
    "\n",
    "# senial\n",
    "t,s = senoidal(tini,tfin,fm)\n",
    "# ruido\n",
    "t,r = np.multiply([alpha]*(fm*(tfin-tini)), aleatoria(tini,tfin,fm, 0.2))\n",
    "\n",
    "fig,ax = plt.subplots(3,sharex=True)\n",
    "fig.set_figwidth(20)\n",
    "fig.set_figheight(10)\n",
    "\n",
    "ax[0].grid()\n",
    "ax[1].grid()\n",
    "ax[2].grid()\n",
    "\n",
    "ax[0].plot(t,s)\n",
    "ax[0].set_title(f\"$P_s = {potencia(s)}$\")\n",
    "\n",
    "ax[1].plot(t,r)\n",
    "ax[1].set_title(f\"$P_r = {potencia(r)}$\")\n",
    "\n",
    "ax[2].plot(t,s+r)\n",
    "ax[2].set_title(f\"$SNR = {potencia(s)/potencia(r)}$\")\n",
    "\n",
    "plt.show()"
   ]
  },
  {
   "cell_type": "markdown",
   "metadata": {},
   "source": [
    "### Caso 3\n",
    "\n",
    "Despeje y calcule $\\alpha$ para una SNR de 0 dB\n",
    "\n",
    "$$ SNR \\text{ dB} = 10 log_{10} \\left( \\frac{P_s}{P_r} \\right) \\text{, } P(\\alpha r) = \\alpha P_r$$\n",
    "$$ SNR_1 \\text{ dB} = 10 log_{10} \\left( \\frac{P_s}{\\alpha P_r} \\right) $$\n",
    "Queremos que la nueva SNR sea cero\n",
    "$$ 0 = 10 log_{10} \\left( \\frac{P_s}{\\alpha P_r} \\right) \\text{, } SNR_1 = 0 $$\n",
    "$$ 0 = log_{10} \\left( \\frac{P_s}{\\alpha P_r} \\right) $$\n",
    "$$ 10^0 = \\frac{P_s}{\\alpha P_r} $$\n",
    "$$ 1 = \\frac{P_s}{\\alpha P_r} $$\n",
    "$$ \\alpha = \\frac{P_s}{P_r} $$"
   ]
  }
 ],
 "metadata": {
  "kernelspec": {
   "display_name": "usr",
   "language": "python",
   "name": "python3"
  },
  "language_info": {
   "codemirror_mode": {
    "name": "ipython",
    "version": 3
   },
   "file_extension": ".py",
   "mimetype": "text/x-python",
   "name": "python",
   "nbconvert_exporter": "python",
   "pygments_lexer": "ipython3",
   "version": "3.13.1"
  }
 },
 "nbformat": 4,
 "nbformat_minor": 2
}
