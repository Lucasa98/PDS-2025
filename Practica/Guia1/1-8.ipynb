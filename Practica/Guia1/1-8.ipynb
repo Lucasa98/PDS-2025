{
 "cells": [
  {
   "cell_type": "markdown",
   "metadata": {},
   "source": [
    "# Guia 1\n",
    "## Ejercicio 8\n",
    "Genere una señal de ruido aleatorio, súmelo a una señal conocida y grafique el resultado. Calcule la potencia de la señal original, la potencia del ruido generado, y calcule la relación señal-ruido (SNR, del inglés signal-to-noise-ratio). Luego multiplique la señal de ruido por una constante y vuelva a calcular la SNR. Por último, a partir de las definiciones de potencia y SNR despeje y calcule el valor para dicha constante de manera que la SNR resultante sea de 0 dB."
   ]
  }
 ],
 "metadata": {
  "language_info": {
   "name": "python"
  }
 },
 "nbformat": 4,
 "nbformat_minor": 2
}
