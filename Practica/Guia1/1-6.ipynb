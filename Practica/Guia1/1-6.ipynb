{
 "cells": [
  {
   "cell_type": "markdown",
   "metadata": {},
   "source": [
    "# Guia 1\n",
    "## Ejercicio 6\n",
    "Genere una señal discreta con frecuencia de meustreo de 10 Hz y sobremuestreela, mediante distintos tipos de interpoladores, a 4 veces la frecuencia de muestreo. Para esto, implemente la siguiente ecuación de interpolación:\n",
    "$$x_i(mT_i) = \\sum_{n} x(nT)I \\left( \\frac{mT_i-nT}{T} \\right)$$\n",
    "donde $I$ es la función interpolante (la función sinc, por ejemplo). Observe que $T$ representa el período de meustreo original y $T_i$ el nuevo período de muestreo. Note además que $n$ y $m$ indican el número de muestra en la señal original e interpolada, respectivamente y que, si bien aquí se expresan como señales analógicas, $x$ y $x_i$ serán señales discretas en su implementación (es decir, $x_i[m]$ y $x[n]$). PAra la función sinc tenga en cuenta la definición dada en el primer ejercicio, con $f_s=0.5$"
   ]
  }
 ],
 "metadata": {
  "language_info": {
   "name": "python"
  }
 },
 "nbformat": 4,
 "nbformat_minor": 2
}
