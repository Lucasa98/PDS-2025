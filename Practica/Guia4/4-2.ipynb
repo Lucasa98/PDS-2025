{
 "cells": [
  {
   "cell_type": "markdown",
   "id": "f2128b91",
   "metadata": {},
   "source": [
    "# Guía 4\n",
    "\n",
    "## Ejercicio 2\n",
    "\n",
    "Genere:\n",
    "\n",
    "a) una señal senoidal discreta de frecuencia 2 Hz,\n",
    "\n",
    "b) una señal cuadrada periódica de frecuencia 2 Hz, y\n",
    "\n",
    "c) una señal senoidal de frecuencia 4 Hz.\n",
    "\n",
    "Para todas ellas utilice fase cero, una frecuencia de meustreo de 100 Hz, y una duración total de 1 segundo. Con estas señales realice las siguientes operaciones:\n",
    "\n",
    "1- Verifique si son ortogonales las señales (a) y (b), (a) y (c), y (b) y (c).\n",
    "\n",
    "2- Calcule la TDF de las tres señales, y verifique la ortogonalidad de los pares como en el ejercicio anterior, en este dominio transformado.\n",
    "\n",
    "3- Redefina la señal (c) como una senoidal pero de frecuencia 3.5 Hz. Verifique si es ortogonal respecto a la señal (a) en ambos dominios."
   ]
  }
 ],
 "metadata": {
  "language_info": {
   "name": "python"
  }
 },
 "nbformat": 4,
 "nbformat_minor": 5
}
