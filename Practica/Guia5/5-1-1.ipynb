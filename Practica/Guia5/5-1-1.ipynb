{
 "cells": [
  {
   "cell_type": "markdown",
   "id": "e4dbce0f",
   "metadata": {},
   "source": [
    "# Guía 5 - Transformada Z\n",
    "\n",
    "## Ejercicio 1\n",
    "\n",
    "Aplicando la Transformada Z, y utilizando la propiedad de desplazamiento en el tiempo, determine la función de transferencia $H(z)$ de los siguientes sistemas LTI causales:\n",
    "1. $y[n] - \\frac{1}{2} y[n-1] + \\frac{1}{4}y[n-2] = x[n]$\n",
    "2. $y[n] = y[n-1] + y[n-2] + x[n-1]$\n",
    "3. $y[n] = 7x[n] + 2y[n-1]-6y[n-2]$\n",
    "4. $y[n] = \\sum_{k=0}^{7} 2^{-k}x[n-k]$"
   ]
  },
  {
   "cell_type": "markdown",
   "id": "91360b45",
   "metadata": {},
   "source": [
    "### Solución\n",
    "\n",
    "Usando las propiedades de **linealidad** y **desplazamiento en el tiempo** de la Transformada Z\n",
    "\n",
    "1.\n",
    "$$\n",
    "\\begin{align*}\n",
    "    y[n] - \\frac{1}{2} y[n-1] + \\frac{1}{4}y[n-2] &= x[n]\\\\\n",
    "    Y(z) - \\frac{1}{2}Y(z)z^{-1} + \\frac{1}{4}Y(z)z^{-2} &= X(z)\\\\\n",
    "    Y(z)\\left( 1 - \\frac{1}{2}z^{-1} + \\frac{1}{4}z^{-2} \\right) &= X(z)\\\\\n",
    "    \\frac{Y(z)}{X(z)} &= \\frac{1}{1 - \\frac{1}{2}z^{-1} + \\frac{1}{4}z^{-2}}\\\\\n",
    "    H(z) &= \\frac{1}{1 - \\frac{1}{2}z^{-1} + \\frac{1}{4}z^{-2}}\n",
    "\\end{align*}\n",
    "$$"
   ]
  },
  {
   "cell_type": "markdown",
   "id": "8040359f",
   "metadata": {},
   "source": [
    "2.\n",
    "$$\n",
    "\\begin{align*}\n",
    "    y[n] &= y[n-1] + y[n-2] + x[n-1]\\\\\n",
    "    Y(z) &= Y(z)z^{-1} + Y(z)z^{-2} + X(z)z^{-1}\\\\\n",
    "    Y(z) - Y(z)z^{-1} - Y(Z)z^{-2} &= X(z)z^{-1}\\\\\n",
    "    Y(z) \\left( 1 - z^{-1} - z^{-2} \\right) &= X(z)z^{-1}\\\\\n",
    "    H(z) = \\frac{Y(z)}{X(z)} &= \\frac{z^{-1}}{1 - z^{-1} - z^{-2}}\n",
    "\\end{align*}\n",
    "$$"
   ]
  },
  {
   "cell_type": "markdown",
   "id": "2ca966d3",
   "metadata": {},
   "source": [
    "3.\n",
    "$$\n",
    "\\begin{align*}\n",
    "    y[n] &= 7x[n] + 2y[n-1] - 6y[n-2]\\\\\n",
    "    Y(z) &= 7X(z) + 2Y(z)z^{-1} - 6Y(z)z^{-2}\\\\\n",
    "    Y(z) -2Y(z)z^{-1} + 6Y(z)z^{-2} &= 7X(z)\\\\\n",
    "    Y(z) \\left( 1 -2z^{-1} + 6z^{-2} \\right) &= 7X(z)\\\\\n",
    "    H(z) = \\frac{Y(z)}{X(z)} &= \\frac{7}{1 -2z^{-1} + 6z^{-2}}\n",
    "\\end{align*}\n",
    "$$"
   ]
  },
  {
   "cell_type": "markdown",
   "id": "ee9dbedd",
   "metadata": {},
   "source": [
    "4.\n",
    "$$\n",
    "\\begin{align*}\n",
    "    y[n] &= \\sum_{k=0}^{7} 2^{-k}x[n-k]\\\\\n",
    "    Y(z) &= \\sum_{k=0}^{7}2^{-k}X(z)z^{-k}\\\\\n",
    "    Y(z) &= X(z) \\sum_{k=0}^{7} 2^{-k}z^{-k}\\\\\n",
    "    H(z) = \\frac{Y(z)}{X(z)} &= \\sum_{k=0}^{7} 2^{-k}z^{-k}\n",
    "\\end{align*}"
   ]
  }
 ],
 "metadata": {
  "language_info": {
   "name": "python"
  }
 },
 "nbformat": 4,
 "nbformat_minor": 5
}
