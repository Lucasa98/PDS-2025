{
 "cells": [
  {
   "cell_type": "markdown",
   "id": "17623d34",
   "metadata": {},
   "source": [
    "# Guía 5 - Transformada Z\n",
    "\n",
    "## Ejercicio 2\n",
    "\n",
    "Encuentre la respuesta en frecuencia de los sistemas anteriores suponiendo una frecuencia de muestreo de 10kHz. Tenga en cuenta la relación entre la Transformada Z y la Transformada de Fourier"
   ]
  },
  {
   "cell_type": "markdown",
   "id": "c6bde87f",
   "metadata": {},
   "source": [
    "### Solución\n",
    "\n",
    "Teniendo la $H(z)$ y sabiendo que el espectro de frecuencias (el espectro de magnitudes de la Transformada de Fourier) se encuentra en el circulo unitario $z = e^{j\\omega}$ podemos encontrar los valores de la DFT de la respuesta al impulso del sistema (respuesta en frecuencias):\n",
    "$$\n",
    "\\mathcal(F)\\{ h(t) \\} = H(z) \\quad \\text{, } |z| = 1 \\Leftrightarrow z = e^{j\\omega}\n",
    "$$"
   ]
  },
  {
   "cell_type": "code",
   "execution_count": null,
   "id": "0162fc77",
   "metadata": {},
   "outputs": [],
   "source": [
    "import numpy as np\n",
    "import matplotlib.pyplot as plt\n",
    "\n",
    "def evaluarH(Y,X,z):\n",
    "    '''\n",
    "    Dado los coeficientes del numerador y denominador de H(z) y unos angulos omega,\n",
    "    devuelve los valores de frecuencia\n",
    "    '''\n",
    "    H = np.zeros(len(z), dtype=complex)\n",
    "    for i in range(len(z)):\n",
    "        num = [Y[j]*np.power(z[i],-j) for j in range(len(Y))] # a0 + a1*z^-1 + a2*z^-2 + ...\n",
    "        den = [X[j]*np.power(z[i],-j) for j in range(len(X))] # b0 + b1*z^-1 + b2*z^-2 + ...\n",
    "        H[i] = np.sum(num)/np.sum(den)\n",
    "    return H\n",
    "\n",
    "# Parametros\n",
    "fm = 10000\n",
    "\n",
    "# Respuestas en frecuencia\n",
    "omega = np.linspace(-np.pi,np.pi,fm,endpoint=False)\n",
    "z = np.exp(1j*omega)\n",
    "H = [\n",
    "    evaluarH([1]                                  ,[1,-0.5,0.25],z),\n",
    "    evaluarH([0,1]                                ,[1,-1,-1]    ,z),\n",
    "    evaluarH([7]                                  ,[1,-2,6]     ,z),\n",
    "    evaluarH([1.0/np.power(2,k) for k in range(8)],[1]          ,z),\n",
    "]\n",
    "\n",
    "# Graficar\n",
    "fig, ax = plt.subplots(4)\n",
    "fig.set_figheight(10)\n",
    "fig.set_figwidth(15)\n",
    "for axi in ax:\n",
    "    axi.grid()\n",
    "\n",
    "for i in range(4):\n",
    "    ax[i].plot(omega*(fm/(2*np.pi)),np.abs(H[i]))\n",
    "\n",
    "fig.tight_layout()"
   ]
  },
  {
   "cell_type": "markdown",
   "id": "73318cb8",
   "metadata": {},
   "source": [
    "![H_1(z)](Practica/rsc/fig5z-1.png)\n",
    "![H_1(z)](Practica/rsc/fig5z-2.png)\n",
    "![H_1(z)](Practica/rsc/fig5z-3.png)\n",
    "![H_1(z)](Practica/rsc/fig5z-4.png)\n",
    "Código de graficas en `Practica/Guia5/5-1-2-3D.py`"
   ]
  }
 ],
 "metadata": {
  "kernelspec": {
   "display_name": "Python 3",
   "language": "python",
   "name": "python3"
  },
  "language_info": {
   "codemirror_mode": {
    "name": "ipython",
    "version": 3
   },
   "file_extension": ".py",
   "mimetype": "text/x-python",
   "name": "python",
   "nbconvert_exporter": "python",
   "pygments_lexer": "ipython3",
   "version": "3.13.3"
  }
 },
 "nbformat": 4,
 "nbformat_minor": 5
}
