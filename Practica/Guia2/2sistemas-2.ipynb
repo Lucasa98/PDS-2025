{
 "cells": [
  {
   "cell_type": "markdown",
   "metadata": {},
   "source": [
    "# Guia 2\n",
    "\n",
    "## Ejercicio 2\n",
    "\n",
    "Considere el diagrama en bloques de la Figura 1 y encuentre la ecuación en diferencias para la señal de salida $y[n]$ en función de la señal de entrada $x[n]$."
   ]
  },
  {
   "cell_type": "markdown",
   "metadata": {},
   "source": [
    "## Solución\n",
    "\n",
    "$$\n",
    "\\begin{align*}\n",
    "y[n] &= \\sqrt{x[n]^2 + x[n-1]^2 - 2x[n]x[n-1]}\\\\\n",
    "y[n] &= \\sqrt{(x[n]-x[n-1])^2}\\\\\n",
    "y[n] &= \\left| x[n] - x[n-1] \\right|\n",
    "\\end{align*}\n",
    "$$"
   ]
  }
 ],
 "metadata": {
  "language_info": {
   "name": "python"
  }
 },
 "nbformat": 4,
 "nbformat_minor": 2
}
