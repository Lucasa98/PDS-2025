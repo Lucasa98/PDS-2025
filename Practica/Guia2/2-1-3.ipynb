{
 "cells": [
  {
   "cell_type": "markdown",
   "metadata": {},
   "source": [
    "# Guia 2.3\n",
    "\n",
    "## Ejercicio 3\n",
    "\n",
    "Considere el sistema LTI dado por la ecuación en diferencias $y[n]-0.5y[n-1]+0.25y[n-2]$"
   ]
  },
  {
   "cell_type": "markdown",
   "metadata": {},
   "source": [
    "$$\n",
    "\\begin{align*}\n",
    "y[n] - 0.5y[n-1] + 0.25y[n-2] &= x[n]\\\\\n",
    "y[n] &= x[n] + 0.5y[n-1] - 0.25y[n-2]\n",
    "\\end{align*}\n",
    "$$\n",
    "\n",
    "![Solucion ej3](https://raw.githubusercontent.com/Lucasa98/PDS-2025/refs/heads/main/Practica/Guia2/2-3.png)"
   ]
  }
 ],
 "metadata": {
  "language_info": {
   "name": "python"
  }
 },
 "nbformat": 4,
 "nbformat_minor": 2
}
