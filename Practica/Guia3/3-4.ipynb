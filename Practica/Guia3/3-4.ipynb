{
 "cells": [
  {
   "cell_type": "markdown",
   "id": "202a294e",
   "metadata": {},
   "source": [
    "# Guia 3\n",
    "\n",
    "## Ejercicio 4\n",
    "\n",
    "Genere una señal como combinación lineal del conjunto de señales senoidales con frecuencias de 1, 2, 3, 4, 5, 6, 7, 8, 9 y 10 Hz y luego:\n",
    "1. mida el grado de parecido con dichas senoidales representando el resultado en un gráfico de barras,\n",
    "2. vuelva a medir el grado de parecido pero con una combinación lineal en la que se varía la fase de las senoidales y\n",
    "3. realice el gráfico de barras para el caso de una señal cuadrada de 5,5 Hz."
   ]
  },
  {
   "cell_type": "markdown",
   "id": "65b39a6a",
   "metadata": {},
   "source": [
    "### Solución"
   ]
  },
  {
   "cell_type": "markdown",
   "id": "c29b93d1",
   "metadata": {},
   "source": [
    "Para medir el grado de parecido vamos a usar el producto interno. Este es una buena forma ya que, aunque las señales senoidales no tiene norma 2 unitaria, sí tienen todas la misma para el mismo intervalo y frecuencia muestral, y dado que el producto interno se puede definir como $<x,y> = ||x||_2 ||y||_2 cos\\phi$ entonces el parecido entre la señal y las senoidales variará únicamente según el ángulo (ya que las normas se mantendrán iguales).\n",
    "\n",
    "Ver script `3-4.py`"
   ]
  }
 ],
 "metadata": {
  "kernelspec": {
   "display_name": "Python 3",
   "language": "python",
   "name": "python3"
  },
  "language_info": {
   "codemirror_mode": {
    "name": "ipython",
    "version": 3
   },
   "file_extension": ".py",
   "mimetype": "text/x-python",
   "name": "python",
   "nbconvert_exporter": "python",
   "pygments_lexer": "ipython3",
   "version": "3.13.3"
  }
 },
 "nbformat": 4,
 "nbformat_minor": 5
}
