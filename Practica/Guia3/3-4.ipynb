{
 "cells": [
  {
   "cell_type": "markdown",
   "id": "202a294e",
   "metadata": {},
   "source": [
    "# Guia 3\n",
    "\n",
    "## Ejercicio 4\n",
    "\n",
    "Genere una señal como combinación lineal del conjunto de señales senoidales con frecuencias de 1, 2, 3, 4, 5, 6, 7, 8, 9 y 19 Hz y luego:\n",
    "1. mida el grado de parecido con dichas senoidales representando el resultado en un gráfico de barras,\n",
    "2. vuelva a medir el grado de parecido pero con una combinación lineal en la que se varía la fase de las senoidales y\n",
    "3. realice el gráfico de barras para el caso de una señal cuadrada de 5,5 Hz."
   ]
  }
 ],
 "metadata": {
  "language_info": {
   "name": "python"
  }
 },
 "nbformat": 4,
 "nbformat_minor": 5
}
