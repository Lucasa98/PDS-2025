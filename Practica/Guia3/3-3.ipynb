{
 "cells": [
  {
   "cell_type": "markdown",
   "id": "9d280d3d",
   "metadata": {},
   "source": [
    "# Guia 3\n",
    "\n",
    "## Ejercicio 3\n",
    "\n",
    "Calcule el error cuadrático total de aproximación en el ejemplo con funciones de Legendre bajo las siguientes condiciones:\n",
    "1. con los coeficientes calculados en el ejemplo,\n",
    "2. con pequeñas variaciones en torno a estos coeficientes $\\alpha$, construyendo una gráfica en 3D con la variación en los coeficientes en $x$, $y$ y el error cuadrático total en $z$,\n",
    "3. con más coeficientes $\\alpha$, para comprobar cómo se reduce el error cuadrático total al aumentar los coeficientes."
   ]
  }
 ],
 "metadata": {
  "language_info": {
   "name": "python"
  }
 },
 "nbformat": 4,
 "nbformat_minor": 5
}
