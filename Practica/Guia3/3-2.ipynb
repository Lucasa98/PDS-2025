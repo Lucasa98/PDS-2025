{
 "cells": [
  {
   "cell_type": "markdown",
   "id": "e454a599",
   "metadata": {},
   "source": [
    "# Guia 3\n",
    "\n",
    "## Ejercicio 2\n",
    "\n",
    "Compruebe que el producto interno mide el grado de parecido entre dos señales dadas. Para ello, genere dos señales senoidales y realice el producto interno entre ellas. Evalúe el efecto que producen los distintos parámetros ($A,f,\\phi$) sobre el cálculo del producto interno"
   ]
  },
  {
   "cell_type": "markdown",
   "id": "a99bfa30",
   "metadata": {},
   "source": [
    "### Solución\n",
    "\n",
    "Implementación de producto interno"
   ]
  },
  {
   "cell_type": "code",
   "execution_count": 1,
   "id": "e0088a44",
   "metadata": {},
   "outputs": [],
   "source": [
    "import numpy as np\n",
    "import matplotlib.pyplot as plt\n",
    "\n",
    "def productoInterno(x,y):\n",
    "    \"\"\"Producto interno entre las seniales x e y\"\"\"\n",
    "    # Verificar que tengan la misma longitud\n",
    "    if(len(x) != len(y)):\n",
    "        raise Exception('Las seniales no son del mismo tamanio')\n",
    "\n",
    "    return np.sum(np.multiply(x,np.conjugate(y)))"
   ]
  },
  {
   "cell_type": "code",
   "execution_count": 2,
   "id": "a049309b",
   "metadata": {},
   "outputs": [
    {
     "data": {
      "application/vnd.jupyter.widget-view+json": {
       "model_id": "04e7753c346148b8b2447b89da22f9be",
       "version_major": 2,
       "version_minor": 0
      },
      "text/plain": [
       "interactive(children=(FloatSlider(value=1.0, description='fsy', max=2.0, min=0.5), FloatSlider(value=1.0, desc…"
      ]
     },
     "metadata": {},
     "output_type": "display_data"
    },
    {
     "data": {
      "text/plain": [
       "<function __main__.update(fsy, Ay, fasey)>"
      ]
     },
     "execution_count": 2,
     "metadata": {},
     "output_type": "execute_result"
    }
   ],
   "source": [
    "from ipywidgets import interact, FloatSlider, VBox, HBox\n",
    "from IPython.display import display, clear_output\n",
    "\n",
    "def senoidal(Tini,Tfin,fm,fs,A,alpha):\n",
    "    t = np.linspace(Tini,Tfin,int(fm*(Tfin-Tini)),endpoint=False)\n",
    "    aux = 2*np.pi*fs\n",
    "    return t, A*np.sin(aux*t+alpha)\n",
    "\n",
    "# ====================== MAIN ======================\n",
    "Tini = 0\n",
    "Tfin = 5\n",
    "fm = 50\n",
    "\n",
    "# parametros sin 1\n",
    "fsx = 1\n",
    "Ax = 1\n",
    "fasex = 0\n",
    "# parametros sin 2 (van a variar)\n",
    "fsy = 1\n",
    "Ay = 1\n",
    "fasey = 0\n",
    "\n",
    "# generar seniales\n",
    "t,x = senoidal(Tini,Tfin,fm,fsx,Ax,fasex)\n",
    "t,y = senoidal(Tini,Tfin,fm,fsy,Ay,fasey)\n",
    "\n",
    "def update(fsy, Ay, fasey):\n",
    "    t, y = senoidal(Tini,Tfin,fm,fsy,Ay,fasey)\n",
    "    fig, ax = plt.subplots(1,1)\n",
    "    fig.set_figheight(5)\n",
    "    fig.set_figwidth(20)\n",
    "\n",
    "    ax.grid()\n",
    "    ax.plot(t,x, label='x')\n",
    "    ax.plot(t,y, label='y')\n",
    "    ax.text(0,1, \"$ <x,y> = %.4f $ \" % productoInterno(x,y), fontsize=10, va='center',\n",
    "            bbox=dict(boxstyle='square'))\n",
    "    ax.legend()\n",
    "    plt.show()\n",
    "\n",
    "# Sliders\n",
    "fs_slider = FloatSlider(value=1,min=0.5,max=2,step=0.1,description=\"fsy\")\n",
    "A_slider = FloatSlider(value=1,min=0.1,max=2,step=0.1,description=\"A\")\n",
    "alpha_slider = FloatSlider(value=0,min=0,max=2*np.pi,step=0.1,description=\"fase\")\n",
    "\n",
    "interact(update,fsy=fs_slider,Ay=A_slider,fasey=alpha_slider)"
   ]
  }
 ],
 "metadata": {
  "kernelspec": {
   "display_name": "Python 3",
   "language": "python",
   "name": "python3"
  },
  "language_info": {
   "codemirror_mode": {
    "name": "ipython",
    "version": 3
   },
   "file_extension": ".py",
   "mimetype": "text/x-python",
   "name": "python",
   "nbconvert_exporter": "python",
   "pygments_lexer": "ipython3",
   "version": "3.13.3"
  }
 },
 "nbformat": 4,
 "nbformat_minor": 5
}
